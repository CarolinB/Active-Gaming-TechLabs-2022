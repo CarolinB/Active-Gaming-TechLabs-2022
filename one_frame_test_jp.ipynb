{
 "cells": [
  {
   "cell_type": "code",
   "execution_count": 1,
   "id": "2c28e921",
   "metadata": {},
   "outputs": [
    {
     "ename": "ModuleNotFoundError",
     "evalue": "No module named 'cv2'",
     "output_type": "error",
     "traceback": [
      "\u001b[1;31m---------------------------------------------------------------------------\u001b[0m",
      "\u001b[1;31mModuleNotFoundError\u001b[0m                       Traceback (most recent call last)",
      "\u001b[1;32mC:\\Users\\FRANCI~1\\AppData\\Local\\Temp/ipykernel_8108/4184508773.py\u001b[0m in \u001b[0;36m<module>\u001b[1;34m\u001b[0m\n\u001b[0;32m      4\u001b[0m \u001b[1;32mimport\u001b[0m \u001b[0mtorchvision\u001b[0m\u001b[1;33m.\u001b[0m\u001b[0mtransforms\u001b[0m \u001b[1;32mas\u001b[0m \u001b[0mtransforms\u001b[0m\u001b[1;33m\u001b[0m\u001b[1;33m\u001b[0m\u001b[0m\n\u001b[0;32m      5\u001b[0m \u001b[1;32mimport\u001b[0m \u001b[0mnumpy\u001b[0m \u001b[1;32mas\u001b[0m \u001b[0mnp\u001b[0m\u001b[1;33m\u001b[0m\u001b[1;33m\u001b[0m\u001b[0m\n\u001b[1;32m----> 6\u001b[1;33m \u001b[1;32mimport\u001b[0m \u001b[0mcv2\u001b[0m\u001b[1;33m\u001b[0m\u001b[1;33m\u001b[0m\u001b[0m\n\u001b[0m\u001b[0;32m      7\u001b[0m \u001b[1;32mfrom\u001b[0m \u001b[0mtime\u001b[0m \u001b[1;32mimport\u001b[0m \u001b[0mtime\u001b[0m\u001b[1;33m\u001b[0m\u001b[1;33m\u001b[0m\u001b[0m\n\u001b[0;32m      8\u001b[0m \u001b[1;32mfrom\u001b[0m \u001b[0mPIL\u001b[0m \u001b[1;32mimport\u001b[0m \u001b[0mImage\u001b[0m\u001b[1;33m\u001b[0m\u001b[1;33m\u001b[0m\u001b[0m\n",
      "\u001b[1;31mModuleNotFoundError\u001b[0m: No module named 'cv2'"
     ]
    }
   ],
   "source": [
    "#Import modules\n",
    "\n",
    "import torch\n",
    "import torchvision\n",
    "import torch\n",
    "import torchvision.transforms as transforms\n",
    "import numpy as np\n",
    "import cv2\n",
    "from time import time\n",
    "from PIL import Image"
   ]
  },
  {
   "cell_type": "code",
   "execution_count": null,
   "id": "b68c182d",
   "metadata": {},
   "outputs": [],
   "source": [
    "#Load Model\n",
    "\n",
    "Path_model = 'C:/Users/Francisco/Desktop/Techlabs 2022.01/Active-Gaming-TechLabs-2022-main/complete_model.pt'\n",
    " \n",
    "#model = torch.load(Path_model)\n",
    "model = torch.load(Path_model, map_location=torch.device('cpu'))\n",
    "model.eval()\n",
    "device = 'cuda' if torch.cuda.is_available() else 'cpu'"
   ]
  },
  {
   "cell_type": "code",
   "execution_count": null,
   "id": "ea1d3aba",
   "metadata": {},
   "outputs": [],
   "source": [
    "#Functions\n",
    "\n",
    "def frame_builder(img_path, transform):\n",
    "        image = Image.open(img_path)\n",
    "        image = image.convert(\"RGB\")\n",
    "        image = transform(image)\n",
    "        return (image)"
   ]
  },
  {
   "cell_type": "code",
   "execution_count": null,
   "id": "5c4c1227",
   "metadata": {},
   "outputs": [],
   "source": [
    "#######################1 picture test\n",
    "\n",
    "frame_path = 'C:/Users/Francisco/Desktop/Techlabs 2022.01/Active-Gaming-TechLabs-2022-main/Arm positions images/up_10.jpg'\n",
    "#frame_path = 'C:/Users/franc/Desktop/Techlabs-2022.1/Github/Active-Gaming-TechLabs-2022/Arm positions images/down_36.jpg'\n",
    "\n",
    "transform = transforms.Compose(\n",
    "    [transforms.ToTensor(),\n",
    "    transforms.Resize((256, 256))\n",
    "    ])\n",
    "\n",
    "frame = frame_builder(frame_path, transform = transform)\n",
    "frame = torch.unsqueeze(frame,0)\n",
    "#print(frame.shape)\n",
    "\n",
    "#predict \n",
    "\n",
    "output = model(frame)\n",
    "\n",
    "prediction = int(torch.max(output.data, 1)[1].numpy())\n",
    "print(prediction)\n",
    "\n",
    "if (prediction == 0):\n",
    "    print ('down')\n",
    "if (prediction == 1):\n",
    "    print ('left')\n",
    "if (prediction == 2):\n",
    "    print ('right')\n",
    "if (prediction == 3):\n",
    "    print ('up')"
   ]
  },
  {
   "cell_type": "code",
   "execution_count": null,
   "id": "a99577a7",
   "metadata": {},
   "outputs": [],
   "source": [
    "###################1 frame test\n",
    "\n",
    "stream = cv2.VideoCapture(0) # 0 means read from local camera."
   ]
  },
  {
   "cell_type": "code",
   "execution_count": null,
   "id": "c5f0774d",
   "metadata": {},
   "outputs": [],
   "source": [
    "ret,frame = cap.read() # return a single frame in variable `frame`\n",
    "\n",
    "while(True):\n",
    "    cv2.imshow('img1',frame) #display the captured image\n",
    "    if cv2.waitKey(1) & 0xFF == ord('y'): #save on pressing 'y' \n",
    "        cv2.imwrite('images/c1.png',frame)\n",
    "        cv2.destroyAllWindows()\n",
    "        break\n",
    "\n",
    "cap.release()"
   ]
  }
 ],
 "metadata": {
  "kernelspec": {
   "display_name": "Python 3 (ipykernel)",
   "language": "python",
   "name": "python3"
  },
  "language_info": {
   "codemirror_mode": {
    "name": "ipython",
    "version": 3
   },
   "file_extension": ".py",
   "mimetype": "text/x-python",
   "name": "python",
   "nbconvert_exporter": "python",
   "pygments_lexer": "ipython3",
   "version": "3.9.7"
  }
 },
 "nbformat": 4,
 "nbformat_minor": 5
}
