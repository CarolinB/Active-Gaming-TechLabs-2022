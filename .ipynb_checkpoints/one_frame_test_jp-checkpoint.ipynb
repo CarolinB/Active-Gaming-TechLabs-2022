{
 "cells": [
  {
   "cell_type": "code",
   "execution_count": 1,
   "metadata": {},
   "outputs": [],
   "source": [
    "#Import modules\n",
    "\n",
    "import torch\n",
    "import torchvision\n",
    "import torch\n",
    "import torchvision.transforms as transforms\n",
    "import numpy as np\n",
    "import cv2\n",
    "from time import time\n",
    "from PIL import Image"
   ]
  },
  {
   "cell_type": "code",
   "execution_count": 3,
   "metadata": {},
   "outputs": [],
   "source": [
    "#Load Model\n",
    "\n",
    "Path_model = 'C:/Users/carol/Documents/TechLabs_AI/Active-Gaming-TechLabs-2022/complete_model.pt'\n",
    " \n",
    "#model = torch.load(Path_model)\n",
    "model = torch.load(Path_model, map_location=torch.device('cpu'))\n",
    "model.eval()\n",
    "device = 'cuda' if torch.cuda.is_available() else 'cpu'"
   ]
  },
  {
   "cell_type": "code",
   "execution_count": 4,
   "metadata": {},
   "outputs": [],
   "source": [
    "#Functions\n",
    "\n",
    "def frame_builder(img_path, transform):\n",
    "        image = Image.open(img_path)\n",
    "        image = image.convert(\"RGB\")\n",
    "        image = transform(image)\n",
    "        return (image)"
   ]
  },
  {
   "cell_type": "code",
   "execution_count": 6,
   "metadata": {},
   "outputs": [
    {
     "name": "stdout",
     "output_type": "stream",
     "text": [
      "3\n",
      "up\n"
     ]
    }
   ],
   "source": [
    "#######################1 picture test\n",
    "\n",
    "frame_path = 'C:/Users/carol/Documents/TechLabs_AI/Active-Gaming-TechLabs-2022/Arm positions images/up_10.jpg'\n",
    "#frame_path = 'C:/Users/franc/Desktop/Techlabs-2022.1/Github/Active-Gaming-TechLabs-2022/Arm positions images/down_36.jpg'\n",
    "\n",
    "transform = transforms.Compose(\n",
    "    [transforms.ToTensor(),\n",
    "    transforms.Resize((256, 256))\n",
    "    ])\n",
    "\n",
    "frame = frame_builder(frame_path, transform = transform)\n",
    "frame = torch.unsqueeze(frame,0)\n",
    "#print(frame.shape)\n",
    "\n",
    "#predict \n",
    "\n",
    "output = model(frame)\n",
    "\n",
    "prediction = int(torch.max(output.data, 1)[1].numpy())\n",
    "print(prediction)\n",
    "\n",
    "if (prediction == 0):\n",
    "    print ('down')\n",
    "if (prediction == 1):\n",
    "    print ('left')\n",
    "if (prediction == 2):\n",
    "    print ('right')\n",
    "if (prediction == 3):\n",
    "    print ('up')"
   ]
  },
  {
   "cell_type": "code",
   "execution_count": 7,
   "metadata": {},
   "outputs": [],
   "source": [
    "###################1 frame test\n",
    "\n",
    "stream = cv2.VideoCapture(0) # 0 means read from local camera."
   ]
  },
  {
   "cell_type": "code",
   "execution_count": 10,
   "metadata": {},
   "outputs": [],
   "source": [
    "ret,frame = stream.read() # return a single frame in variable `frame`\n",
    "\n",
    "while(True):\n",
    "    cv2.imshow('img1',frame) #display the captured image\n",
    "    if cv2.waitKey(1) & 0xFF == ord('y'): #save on pressing 'y' \n",
    "        cv2.imwrite('images/c1.png',frame)\n",
    "        cv2.destroyAllWindows()\n",
    "        break\n",
    "\n",
    "stream.release()"
   ]
  }
 ],
 "metadata": {
  "kernelspec": {
   "display_name": "Python 3",
   "language": "python",
   "name": "python3"
  },
  "language_info": {
   "codemirror_mode": {
    "name": "ipython",
    "version": 3
   },
   "file_extension": ".py",
   "mimetype": "text/x-python",
   "name": "python",
   "nbconvert_exporter": "python",
   "pygments_lexer": "ipython3",
   "version": "3.8.5"
  }
 },
 "nbformat": 4,
 "nbformat_minor": 5
}
